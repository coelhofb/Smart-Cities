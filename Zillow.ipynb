{
 "cells": [
  {
   "cell_type": "code",
   "execution_count": 10,
   "metadata": {},
   "outputs": [],
   "source": [
    "# Dependencies\n",
    "import pandas as pd\n",
    "import numpy as np\n",
    "import requests\n",
    "import json\n",
    "import census\n",
    "from pprint import pprint\n",
    "import xml.etree.ElementTree as ET\n",
    "\n",
    "#import urllib2\n",
    "#import xmltodict\n",
    "\n",
    "# Google API Key\n",
    "from config import zillowkey\n"
   ]
  },
  {
   "cell_type": "code",
   "execution_count": 2,
   "metadata": {},
   "outputs": [],
   "source": [
    "url = \"http://www.zillow.com/webservice/GetRegionChildren.htm?zws-id=\""
   ]
  },
  {
   "cell_type": "code",
   "execution_count": 7,
   "metadata": {},
   "outputs": [
    {
     "name": "stdout",
     "output_type": "stream",
     "text": [
      "<Element '{http://www.zillow.com/static/xsd/RegionChildren.xsd}regionchildren' at 0x00000289A969E7C8>\n"
     ]
    }
   ],
   "source": [
    "resp = requests.get(url + zillowkey + \"&state=il&city=chicago&childtype=neighborhood\")\n",
    "#print(resp)\n",
    "\n",
    "tree = ET.fromstring(resp.content)\n",
    "print(tree)"
   ]
  },
  {
   "cell_type": "code",
   "execution_count": 16,
   "metadata": {},
   "outputs": [],
   "source": [
    "def homepage(request):\n",
    "    file = urllib2.urlopen(resp)\n",
    "    data = file.read()\n",
    "    file.close()\n",
    "    \n",
    "    data=xlmtodict.parse(data)\n",
    "    return render_to_response('my_template.html', {'data':data})"
   ]
  },
  {
   "cell_type": "code",
   "execution_count": null,
   "metadata": {},
   "outputs": [],
   "source": []
  }
 ],
 "metadata": {
  "kernelspec": {
   "display_name": "Python 3",
   "language": "python",
   "name": "python3"
  },
  "language_info": {
   "codemirror_mode": {
    "name": "ipython",
    "version": 3
   },
   "file_extension": ".py",
   "mimetype": "text/x-python",
   "name": "python",
   "nbconvert_exporter": "python",
   "pygments_lexer": "ipython3",
   "version": "3.6.5"
  }
 },
 "nbformat": 4,
 "nbformat_minor": 2
}
