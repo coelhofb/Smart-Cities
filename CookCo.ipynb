{
 "cells": [
  {
   "cell_type": "code",
   "execution_count": 4,
   "metadata": {},
   "outputs": [],
   "source": [
    "# Dependencies\n",
    "import pandas as pd\n",
    "import numpy as np\n",
    "import requests\n",
    "import csv\n",
    "import json\n",
    "import matplotlib.pyplot as plt\n",
    "from pprint import pprint\n",
    "\n",
    "cookco_data='CookCoCombined.csv'"
   ]
  },
  {
   "cell_type": "code",
   "execution_count": 5,
   "metadata": {
    "scrolled": false
   },
   "outputs": [
    {
     "data": {
      "text/html": [
       "<div>\n",
       "<style scoped>\n",
       "    .dataframe tbody tr th:only-of-type {\n",
       "        vertical-align: middle;\n",
       "    }\n",
       "\n",
       "    .dataframe tbody tr th {\n",
       "        vertical-align: top;\n",
       "    }\n",
       "\n",
       "    .dataframe thead th {\n",
       "        text-align: right;\n",
       "    }\n",
       "</style>\n",
       "<table border=\"1\" class=\"dataframe\">\n",
       "  <thead>\n",
       "    <tr style=\"text-align: right;\">\n",
       "      <th></th>\n",
       "      <th>ZipCode</th>\n",
       "      <th>HousingUnits</th>\n",
       "      <th>Population</th>\n",
       "      <th>Households</th>\n",
       "      <th>Families</th>\n",
       "      <th>MedianAge</th>\n",
       "      <th>MedianHouseholdIncome</th>\n",
       "      <th>MedianHomeValue</th>\n",
       "      <th>Unnamed: 8</th>\n",
       "      <th>Unnamed: 9</th>\n",
       "    </tr>\n",
       "  </thead>\n",
       "  <tbody>\n",
       "    <tr>\n",
       "      <th>0</th>\n",
       "      <td>60601</td>\n",
       "      <td>39837.0</td>\n",
       "      <td>69283.0</td>\n",
       "      <td>36483.0</td>\n",
       "      <td>11773.0</td>\n",
       "      <td>38.1</td>\n",
       "      <td>53846.0</td>\n",
       "      <td>291335.0</td>\n",
       "      <td>NaN</td>\n",
       "      <td>NaN</td>\n",
       "    </tr>\n",
       "    <tr>\n",
       "      <th>1</th>\n",
       "      <td>60602</td>\n",
       "      <td>11257.0</td>\n",
       "      <td>21344.0</td>\n",
       "      <td>10582.0</td>\n",
       "      <td>3906.0</td>\n",
       "      <td>34.1</td>\n",
       "      <td>82834.0</td>\n",
       "      <td>390663.0</td>\n",
       "      <td>NaN</td>\n",
       "      <td>NaN</td>\n",
       "    </tr>\n",
       "    <tr>\n",
       "      <th>2</th>\n",
       "      <td>60603</td>\n",
       "      <td>20121.0</td>\n",
       "      <td>49333.0</td>\n",
       "      <td>16940.0</td>\n",
       "      <td>11128.0</td>\n",
       "      <td>35.1</td>\n",
       "      <td>27447.0</td>\n",
       "      <td>193626.0</td>\n",
       "      <td>NaN</td>\n",
       "      <td>NaN</td>\n",
       "    </tr>\n",
       "    <tr>\n",
       "      <th>3</th>\n",
       "      <td>60605</td>\n",
       "      <td>6004.0</td>\n",
       "      <td>14354.0</td>\n",
       "      <td>5654.0</td>\n",
       "      <td>3515.0</td>\n",
       "      <td>36.5</td>\n",
       "      <td>48332.0</td>\n",
       "      <td>175132.0</td>\n",
       "      <td>NaN</td>\n",
       "      <td>NaN</td>\n",
       "    </tr>\n",
       "    <tr>\n",
       "      <th>4</th>\n",
       "      <td>60606</td>\n",
       "      <td>43988.0</td>\n",
       "      <td>71331.0</td>\n",
       "      <td>40641.0</td>\n",
       "      <td>10371.0</td>\n",
       "      <td>32.4</td>\n",
       "      <td>89069.0</td>\n",
       "      <td>436891.0</td>\n",
       "      <td>NaN</td>\n",
       "      <td>NaN</td>\n",
       "    </tr>\n",
       "  </tbody>\n",
       "</table>\n",
       "</div>"
      ],
      "text/plain": [
       "   ZipCode  HousingUnits  Population  Households  Families  MedianAge  \\\n",
       "0    60601       39837.0     69283.0     36483.0   11773.0       38.1   \n",
       "1    60602       11257.0     21344.0     10582.0    3906.0       34.1   \n",
       "2    60603       20121.0     49333.0     16940.0   11128.0       35.1   \n",
       "3    60605        6004.0     14354.0      5654.0    3515.0       36.5   \n",
       "4    60606       43988.0     71331.0     40641.0   10371.0       32.4   \n",
       "\n",
       "   MedianHouseholdIncome  MedianHomeValue  Unnamed: 8  Unnamed: 9  \n",
       "0                53846.0         291335.0         NaN         NaN  \n",
       "1                82834.0         390663.0         NaN         NaN  \n",
       "2                27447.0         193626.0         NaN         NaN  \n",
       "3                48332.0         175132.0         NaN         NaN  \n",
       "4                89069.0         436891.0         NaN         NaN  "
      ]
     },
     "execution_count": 5,
     "metadata": {},
     "output_type": "execute_result"
    }
   ],
   "source": [
    "cookco= pd.read_csv(cookco_data)\n",
    "cookco.head()\n"
   ]
  },
  {
   "cell_type": "code",
   "execution_count": 6,
   "metadata": {},
   "outputs": [
    {
     "data": {
      "text/plain": [
       "Index(['ZipCode', 'HousingUnits', 'Population', 'Households', 'Families',\n",
       "       'MedianAge', 'MedianHouseholdIncome', 'MedianHomeValue', 'Unnamed: 8',\n",
       "       'Unnamed: 9'],\n",
       "      dtype='object')"
      ]
     },
     "execution_count": 6,
     "metadata": {},
     "output_type": "execute_result"
    }
   ],
   "source": [
    "cookco.columns"
   ]
  },
  {
   "cell_type": "code",
<<<<<<< HEAD
   "execution_count": 17,
   "metadata": {},
   "outputs": [],
=======
<<<<<<< HEAD
   "execution_count": 15,
   "metadata": {
    "scrolled": true
   },
   "outputs": [
    {
     "name": "stdout",
     "output_type": "stream",
     "text": [
      "57\n"
     ]
    }
   ],
=======
   "execution_count": 17,
   "metadata": {},
   "outputs": [],
>>>>>>> master
>>>>>>> katycookco
   "source": [
    "cookco_df=cookco.loc[:,['ZipCode','HousingUnits','Population','Households','Families','MedianAge',\n",
    "                            'MedianHouseholdIncome','MedianHomeValue']]\n",
    "cookco_df.head()\n",
<<<<<<< HEAD
=======
<<<<<<< HEAD
    "print(len(cookco_df))\n",
=======
>>>>>>> master
>>>>>>> katycookco
    "\n",
    "cookco_df.to_csv('cookco_zips.csv')"
   ]
  },
  {
   "cell_type": "code",
   "execution_count": 8,
   "metadata": {},
   "outputs": [],
   "source": [
    "zipcodes = cookco_df['ZipCode']\n",
    "med_value = cookco_df['MedianHomeValue']\n",
    "med_income = cookco_df['MedianHouseholdIncome']"
   ]
  },
  {
   "cell_type": "code",
   "execution_count": null,
   "metadata": {},
   "outputs": [],
   "source": [
    "plt.scatter(zipcodes, med_value)\n",
    "plt.scatter(zipcodes, med_income)\n",
    "plt.xlim(60600,60673)"
   ]
  },
  {
   "cell_type": "code",
   "execution_count": null,
   "metadata": {},
   "outputs": [],
   "source": []
  }
 ],
 "metadata": {
  "kernelspec": {
   "display_name": "Python 3",
   "language": "python",
   "name": "python3"
  },
  "language_info": {
   "codemirror_mode": {
    "name": "ipython",
    "version": 3
   },
   "file_extension": ".py",
   "mimetype": "text/x-python",
   "name": "python",
   "nbconvert_exporter": "python",
   "pygments_lexer": "ipython3",
   "version": "3.6.5"
  }
 },
 "nbformat": 4,
 "nbformat_minor": 2
}
