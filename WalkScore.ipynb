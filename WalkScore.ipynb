{
 "cells": [
  {
   "cell_type": "code",
   "execution_count": 51,
   "metadata": {},
   "outputs": [],
   "source": [
    "# Dependencies\n",
    "import pandas as pd\n",
    "import numpy as np\n",
    "import requests\n",
    "import json\n",
    "import census\n",
    "from pprint import pprint\n",
    "from xml.etree import ElementTree\n",
    "\n",
    "# Google API Key\n",
    "from config import (zillowkey, wsapikey, censuskey)\n"
   ]
  },
  {
   "cell_type": "code",
   "execution_count": 49,
   "metadata": {},
   "outputs": [],
   "source": [
    "wsa_url = \"http://api.walkscore.com/score?format=json&lat=40.8516388&lon=-73.9109739&transit=1&bike=1&wsapikey=\""
   ]
  },
  {
   "cell_type": "code",
   "execution_count": 50,
   "metadata": {},
   "outputs": [
    {
     "name": "stdout",
     "output_type": "stream",
     "text": [
      "http://www.zillow.com/webservice/GetRegionChildren.htm?zws-id=X1-ZWz1gm7x8h6617_7ew1d&state=il&city=chicago&childtype=neighborhood\n",
      "http://api.walkscore.com/score?format=json&lat=40.8516388&lon=-73.9109739&transit=1&bike=1&wsapikey=ad83b945427b1b8183bcabc650358e6a\n"
     ]
    }
   ],
   "source": [
    "wsa_response = requests.get(wsa_url + wsapikey)\n",
    "print(wsa_response.url)"
   ]
  },
  {
   "cell_type": "code",
   "execution_count": 53,
   "metadata": {},
   "outputs": [
    {
     "name": "stdout",
     "output_type": "stream",
     "text": [
      "<Element '{http://www.zillow.com/static/xsd/RegionChildren.xsd}regionchildren' at 0x0000017C00389BD8>\n"
     ]
    }
   ],
   "source": [
    "data = wsa_response.json()\n",
    "pprint(data)"
   ]
  },
  {
   "cell_type": "code",
   "execution_count": null,
   "metadata": {},
   "outputs": [],
   "source": []
  }
 ],
 "metadata": {
  "kernelspec": {
   "display_name": "Python 3",
   "language": "python",
   "name": "python3"
  },
  "language_info": {
   "codemirror_mode": {
    "name": "ipython",
    "version": 3
   },
   "file_extension": ".py",
   "mimetype": "text/x-python",
   "name": "python",
   "nbconvert_exporter": "python",
   "pygments_lexer": "ipython3",
   "version": "3.6.5"
  }
 },
 "nbformat": 4,
 "nbformat_minor": 2
}
