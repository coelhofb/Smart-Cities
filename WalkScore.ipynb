{
 "cells": [
  {
   "cell_type": "code",
   "execution_count": null,
   "metadata": {},
   "outputs": [],
   "source": [
    "# Dependencies\n",
    "import pandas as pd\n",
    "import numpy as np\n",
    "import requests\n",
    "import json\n",
    "from pprint import pprint\n",
    "\n",
    "# WalkScore API Key\n",
    "from config import wsapikey"
   ]
  },
  {
   "cell_type": "code",
   "execution_count": null,
   "metadata": {},
   "outputs": [],
   "source": [
    "#Base URL\n",
    "#wsa_url = \"http://api.walkscore.com/score?format=json&lat=40.8516388&lon=-73.9109739&transit=1&bike=1&wsapikey=\"\n",
    "wsa_url = \"http://api.walkscore.com/score?format=json&transit=1&bike=1&wsapikey=\""
   ]
  },
  {
   "cell_type": "code",
   "execution_count": null,
   "metadata": {},
   "outputs": [],
   "source": [
    "#Reading List of Lats and Longs for querying\n",
    "lats=[]\n",
    "lngs=[]\n",
    "\n",
    "\n",
    "#reading zipcodes\n",
    "chi_zipcodes=pd.read_csv(\"chi_zipcodes.csv\")\n",
    "zip_lat_long=pd.read_csv(\"zip_lat_long.csv\")\n",
    "\n",
    "\n",
    "#list_of_locations=pd.DataFrame(\n",
    "#                {\"lats\" : lats\n",
    "#                 ,\"lngs\" : lngs\n",
    "#                })\n",
    "\n",
    "#Initializing Lists\n",
    "walkscores=[]\n",
    "transitscores=[]\n",
    "bikescores=[]\n",
    "zipIdx=[]\n",
    "\n",
    "chi_zipcodes.head()\n",
    "\n",
    "#zipcodes.head()\n",
    "#zip_lat_long.head()\n",
    "\n",
    "chi_zipcodes=chi_zipcodes.merge(zip_lat_long, how='inner',left_on=\"zipcode\", right_on=\"ZIP\")\n",
    "chi_zipcodes.head()\n",
    "#len(chi_zipcodes)"
   ]
  },
  {
   "cell_type": "code",
   "execution_count": null,
   "metadata": {},
   "outputs": [],
   "source": [
    "for x in range(len(chi_zipcodes)):\n",
    "#for x in range(3):\n",
    "    request_url=wsa_url + wsapikey + \"&lat=\" + str(chi_zipcodes[\"LAT\"][x]) + \"&lon=\" + str(chi_zipcodes[\"LNG\"][x])\n",
    "    #request_url=wsa_url + wsapikey + \"&address=zip%20\" + str(zipcodes.iloc[0]['zipcode'])\n",
    "    #request_url=wsa_url + wsapikey + \"&address=1119%8th%20Avenue%20Seattle%20WA%2098101\"+\"&lat=40&lon=87\"\n",
    " \n",
    "    zipIdx.append(chi_zipcodes.iloc[x,:][\"ZIP\"])\n",
    "    data=[]\n",
    "    wsa_response = requests.get(request_url)\n",
    "    data = wsa_response.json()\n",
    "    try: \n",
    "        walkscores.append(data[\"walkscore\"])\n",
    "    except:\n",
    "        walkscores.append(float('nan'))    \n",
    "    try:      \n",
    "        transitscores.append(data[\"transit\"][\"score\"])\n",
    "    except:      \n",
    "        transitscores.append(float('nan'))   \n",
    "    try:    \n",
    "        bikescores.append(data[\"bike\"][\"score\"])\n",
    "    except:\n",
    "        bikescores.append(float('nan'))"
   ]
  },
  {
   "cell_type": "code",
   "execution_count": null,
   "metadata": {},
   "outputs": [],
   "source": [
    "len(walkscores)"
   ]
  },
  {
   "cell_type": "code",
   "execution_count": null,
   "metadata": {},
   "outputs": [],
   "source": [
    "len(zipIdx)"
   ]
  },
  {
   "cell_type": "code",
   "execution_count": null,
   "metadata": {},
   "outputs": [],
   "source": [
    "scores=pd.DataFrame({\"zipcode\": zipIdx\n",
    "        ,\"walkscore\": walkscores\n",
    "        ,\"transitscore\" : transitscores\n",
    "        ,\"bikescore\": bikescores\n",
    "       })\n",
    "\n",
    "scores=scores.merge(chi_zipcodes, how='inner',on=\"zipcode\")\n",
    "scores.to_csv('chi_zip_scores.csv')\n",
    "scores.head()"
   ]
  },
  {
   "cell_type": "code",
   "execution_count": null,
   "metadata": {},
   "outputs": [],
   "source": []
  },
  {
   "cell_type": "code",
   "execution_count": null,
   "metadata": {},
   "outputs": [],
   "source": [
    "#scores=pd.read_csv('chi_zip_scores.csv')\n",
    "\n",
    "\n",
    "#chi_zipcodes.plot.scatter(\"LNG\",\"LAT\",)\n",
    "#scores.head()\n",
    "\n",
    "\n",
    "#\n",
    "#scores.to_csv('chi_zip_scores.csv')"
   ]
  },
  {
   "cell_type": "code",
   "execution_count": null,
   "metadata": {},
   "outputs": [],
   "source": []
  }
 ],
 "metadata": {
  "kernelspec": {
   "display_name": "Python 3",
   "language": "python",
   "name": "python3"
  },
  "language_info": {
   "codemirror_mode": {
    "name": "ipython",
    "version": 3
   },
   "file_extension": ".py",
   "mimetype": "text/x-python",
   "name": "python",
   "nbconvert_exporter": "python",
   "pygments_lexer": "ipython3",
   "version": "3.6.5"
  }
 },
 "nbformat": 4,
 "nbformat_minor": 2
}
