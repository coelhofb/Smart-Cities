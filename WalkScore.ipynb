{
 "cells": [
  {
   "cell_type": "code",
   "execution_count": 2,
   "metadata": {},
   "outputs": [],
   "source": [
    "# Dependencies\n",
    "import pandas as pd\n",
    "import numpy as np\n",
    "import requests\n",
    "import json\n",
    "from pprint import pprint\n",
    "\n",
    "# WalkScore API Key\n",
    "from config import wsapikey"
   ]
  },
  {
   "cell_type": "code",
   "execution_count": 21,
   "metadata": {},
   "outputs": [],
   "source": [
    "#Base URL\n",
    "#wsa_url = \"http://api.walkscore.com/score?format=json&lat=40.8516388&lon=-73.9109739&transit=1&bike=1&wsapikey=\"\n",
    "wsa_url = \"http://api.walkscore.com/score?format=json&transit=1&bike=1&wsapikey=\""
   ]
  },
  {
   "cell_type": "code",
   "execution_count": 26,
   "metadata": {},
   "outputs": [
    {
     "data": {
      "text/html": [
       "<div>\n",
       "<style scoped>\n",
       "    .dataframe tbody tr th:only-of-type {\n",
       "        vertical-align: middle;\n",
       "    }\n",
       "\n",
       "    .dataframe tbody tr th {\n",
       "        vertical-align: top;\n",
       "    }\n",
       "\n",
       "    .dataframe thead th {\n",
       "        text-align: right;\n",
       "    }\n",
       "</style>\n",
       "<table border=\"1\" class=\"dataframe\">\n",
       "  <thead>\n",
       "    <tr style=\"text-align: right;\">\n",
       "      <th></th>\n",
       "      <th>lats</th>\n",
       "      <th>lngs</th>\n",
       "    </tr>\n",
       "  </thead>\n",
       "  <tbody>\n",
       "    <tr>\n",
       "      <th>0</th>\n",
       "      <td>40.851218</td>\n",
       "      <td>-73.876824</td>\n",
       "    </tr>\n",
       "    <tr>\n",
       "      <th>1</th>\n",
       "      <td>41.886696</td>\n",
       "      <td>-87.620288</td>\n",
       "    </tr>\n",
       "  </tbody>\n",
       "</table>\n",
       "</div>"
      ],
      "text/plain": [
       "        lats       lngs\n",
       "0  40.851218 -73.876824\n",
       "1  41.886696 -87.620288"
      ]
     },
     "execution_count": 26,
     "metadata": {},
     "output_type": "execute_result"
    }
   ],
   "source": [
    "#Reading List of Lats and Longs for querying\n",
    "lats=[]\n",
    "lngs=[]\n",
    "\n",
    "lats.append(40.8512183)\n",
    "lngs.append(-73.8768237)\n",
    "lats.append(41.8866958)\n",
    "lngs.append(-87.620288)\n",
    "\n",
    "list_of_locations=pd.DataFrame(\n",
    "                {\"lats\" : lats\n",
    "                 ,\"lngs\" : lngs\n",
    "                })\n",
    "\n",
    "#Initializing Lists\n",
    "walkscores=[]\n",
    "transitscores=[]\n",
    "bikescores=[]\n"
   ]
  },
  {
   "cell_type": "code",
   "execution_count": 27,
   "metadata": {},
   "outputs": [
    {
     "name": "stdout",
     "output_type": "stream",
     "text": [
      "http://api.walkscore.com/score?format=json&transit=1&bike=1&wsapikey=ad83b945427b1b8183bcabc650358e6a&lat=40.8512183&lon=-73.8768237\n",
      "http://api.walkscore.com/score?format=json&transit=1&bike=1&wsapikey=ad83b945427b1b8183bcabc650358e6a&lat=41.8866958&lon=-87.620288\n"
     ]
    }
   ],
   "source": [
    "for x in range(len(list_of_locations)):\n",
    "    request_url=wsa_url + wsapikey + \"&lat=\" + str(list_of_locations[\"lats\"][x]) + \"&lon=\" + str(list_of_locations[\"lngs\"][x])\n",
    "    wsa_response = requests.get(request_url)\n",
    "    data = wsa_response.json()\n",
    "    walkscores.append(data[\"walkscore\"])\n",
    "    transitscores.append(data[\"transit\"][\"score\"])\n",
    "    bikescores.append(data[\"bike\"][\"score\"])   "
   ]
  },
  {
   "cell_type": "code",
   "execution_count": 28,
   "metadata": {},
   "outputs": [
    {
     "data": {
      "text/plain": [
       "[43, 84]"
      ]
     },
     "execution_count": 28,
     "metadata": {},
     "output_type": "execute_result"
    }
   ],
   "source": []
  },
  {
   "cell_type": "code",
   "execution_count": null,
   "metadata": {},
   "outputs": [],
   "source": []
  }
 ],
 "metadata": {
  "kernelspec": {
   "display_name": "Python 3",
   "language": "python",
   "name": "python3"
  },
  "language_info": {
   "codemirror_mode": {
    "name": "ipython",
    "version": 3
   },
   "file_extension": ".py",
   "mimetype": "text/x-python",
   "name": "python",
   "nbconvert_exporter": "python",
   "pygments_lexer": "ipython3",
   "version": "3.6.5"
  }
 },
 "nbformat": 4,
 "nbformat_minor": 2
}
